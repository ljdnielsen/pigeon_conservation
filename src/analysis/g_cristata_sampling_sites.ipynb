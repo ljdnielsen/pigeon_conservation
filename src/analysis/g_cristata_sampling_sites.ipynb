{
 "cells": [
  {
   "cell_type": "markdown",
   "metadata": {},
   "source": [
    "## Detailed Sampling Locations of *Goura cristata*"
   ]
  },
  {
   "cell_type": "code",
   "execution_count": null,
   "metadata": {},
   "outputs": [],
   "source": [
    "import matplotlib.pyplot as plt\n",
    "from mpl_toolkits.basemap import Basemap\n",
    "\n",
    "fig = plt.figure(figsize=(8, 8))\n",
    "\n",
    "# Create a map centered around the Birdshead Peninsula and Raja Ampat Islands\n",
    "map = Basemap(llcrnrlat=-5, urcrnrlat=1, llcrnrlon=129,\n",
    "              urcrnrlon=136, epsg=23830)\n",
    "\n",
    "map.arcgisimage(service='World_Imagery', xpixels = 1000, verbose= True)\n",
    "map.drawmapscale(130, -4.5, 130, -4.5, 200, fillcolor1= 'w', fontcolor='w') # Add scale bar\n",
    "\n",
    "# Add north arrow\n",
    "a1, a2 = map(135.5, 0.25)\n",
    "t1, t2 = map(135.5-0.05,0.25+0.05)\n",
    "plt.annotate('.', xy=(a1,a2), arrowprops=dict(facecolor='white', headwidth=10))\n",
    "plt.annotate('N', xy=(t1,t2), color='white')\n",
    "\n",
    "# Add locations as (longitude, latitude, color) triplets\n",
    "point_color = 'orange' # Color of location points\n",
    "locations = [\n",
    "    (130.2, -1.95, point_color, 'Misool Island', '1860', 130.3, -1.85), # Misool Island, unspecified, 1860\n",
    "    (135.3, -3.4, point_color, 'Rubi (Irubi)', '1873', 135.3, -3.3), # Rubi (Irubi), 1873\n",
    "    (134.6, -4, point_color, 'Etna Bay', '1896', 134.6, -4.2), # Etna Bay, 1896\n",
    "    (134.15, -3.75, point_color, 'Triton Bay', '1896', 134.1, -3.9), # Triton Bay, unspecified, 1896\n",
    "    (131.1, -0.25, point_color, 'Waigeo Island', '1902', 131.1, -0.1), # Waigeo Island, unspecified, 1902\n",
    "    (131, -0.3, point_color, 'Waigeo Island, Majalabit Bay', '1925', 131.25, -0.55), # Waigeo Island, Majalabit Bay, 1925\n",
    "    (134.2, -3.85, point_color, 'Triton Bay, Kamaka', '2014', 134.25, -4.05), # Triton Bay, Kamaka, 2014\n",
    "    (134.1, -3.7, point_color, 'Triton Bay, Lengguru River', '2014', 134, -3.7), # Triton Bay, Lengguru River, 2014\n",
    "    (134, -1.1, point_color, 'Arfak Mountains', 'unspecified', 134, -1), # Arfak Mountains, no-year\n",
    "]\n",
    "for lon, lat, markercolor, location, year, text_lon, text_lat in locations:\n",
    "    x, y = map(lon, lat)\n",
    "    map.plot(x, y, marker='o', color=markercolor, markeredgecolor='k', markersize=8)\n",
    "    x, y = map(text_lon, text_lat)\n",
    "    plt.text(x, y, f'{location}, {year}', color='white', ha='right', va='bottom', fontsize=8)\n",
    "\n",
    "plt.title(r'$\\it{Goura}$ $\\it{cristata}$ Sampling Sites',size=12)\n",
    "plt.show()"
   ]
  },
  {
   "cell_type": "code",
   "execution_count": null,
   "metadata": {},
   "outputs": [],
   "source": [
    "fig.savefig('../../results/figures/g_cristata_sampling_sites.png', bbox_inches='tight')"
   ]
  }
 ],
 "metadata": {
  "kernelspec": {
   "display_name": "base",
   "language": "python",
   "name": "python3"
  },
  "language_info": {
   "codemirror_mode": {
    "name": "ipython",
    "version": 3
   },
   "file_extension": ".py",
   "mimetype": "text/x-python",
   "name": "python",
   "nbconvert_exporter": "python",
   "pygments_lexer": "ipython3",
   "version": "3.10.12"
  }
 },
 "nbformat": 4,
 "nbformat_minor": 2
}
