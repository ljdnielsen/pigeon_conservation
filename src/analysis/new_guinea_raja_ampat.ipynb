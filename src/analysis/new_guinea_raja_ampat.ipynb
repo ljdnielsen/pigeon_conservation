{
 "cells": [
  {
   "cell_type": "markdown",
   "metadata": {},
   "source": [
    "## Map of New Guinea and Raja Ampat with Marked Locations"
   ]
  },
  {
   "cell_type": "code",
   "execution_count": null,
   "metadata": {},
   "outputs": [],
   "source": [
    "import matplotlib.pyplot as plt\n",
    "from mpl_toolkits.basemap import Basemap\n",
    "import numpy as np\n",
    "\n",
    "fig = plt.figure(figsize=(8, 3))\n",
    "\n",
    "# Create a map centered around New Guinea and Raja Ampat\n",
    "map = Basemap(projection='merc', llcrnrlat=-10, urcrnrlat=1, llcrnrlon=128,\n",
    "              urcrnrlon=151, lat_ts=20, resolution='i')\n",
    "\n",
    "map.shadedrelief()\n",
    "map.drawcountries()\n",
    "map.drawmapscale(131, -9, 131, -9, 500) # Add scale bar\n",
    "\n",
    "# Add north arrow\n",
    "a1, a2 = map(149, -1)\n",
    "t1, t2 = map(149-0.2,-1+0.2)\n",
    "plt.annotate('.', xy=(a1,a2), arrowprops=dict(facecolor='black', headwidth=10))\n",
    "plt.annotate('N', xy=(t1,t2))\n",
    "\n",
    "# Add locations as (longitude, latitude, color) triplets\n",
    "locations = [\n",
    "    (135.5, -1.3, '#e60049'), # Geelvink Bay Islands\n",
    "    (144, -6.5, '#0bb4ff'), # Papua New Guinea\n",
    "    (138, -4, '#e6d800'), # Indonesian New Guinea\n",
    "    (130, -1, '#9b19f5'), # Raja Ampat Islands\n",
    "]\n",
    "\n",
    "for lon, lat, markercolor in locations:\n",
    "    x, y = map(lon, lat)\n",
    "    map.plot(x, y, marker='o', color=markercolor, markeredgecolor='k', markersize=20)\n",
    "\n",
    "plt.title(\"Goura Sampling Locations on & Around New Guinea\", size=12)\n",
    "plt.show()"
   ]
  },
  {
   "cell_type": "markdown",
   "metadata": {},
   "source": [
    "Save the map to the '__results/figures/__' directory."
   ]
  },
  {
   "cell_type": "code",
   "execution_count": null,
   "metadata": {},
   "outputs": [],
   "source": [
    "fig.savefig(\"../../results/figures/new_guinea_raja_ampat.png\", bbox_inches=\"tight\")"
   ]
  }
 ],
 "metadata": {
  "kernelspec": {
   "display_name": "base",
   "language": "python",
   "name": "python3"
  },
  "language_info": {
   "codemirror_mode": {
    "name": "ipython",
    "version": 3
   },
   "file_extension": ".py",
   "mimetype": "text/x-python",
   "name": "python",
   "nbconvert_exporter": "python",
   "pygments_lexer": "ipython3",
   "version": "3.10.12"
  }
 },
 "nbformat": 4,
 "nbformat_minor": 2
}
