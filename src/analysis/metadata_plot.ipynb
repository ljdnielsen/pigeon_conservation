{
 "cells": [
  {
   "cell_type": "markdown",
   "metadata": {},
   "source": [
    "## Plot of Year and Location of Collected Specimen"
   ]
  },
  {
   "cell_type": "code",
   "execution_count": null,
   "metadata": {},
   "outputs": [],
   "source": [
    "import pandas as pd\n",
    "import matplotlib.pyplot as plt"
   ]
  },
  {
   "cell_type": "markdown",
   "metadata": {},
   "source": [
    "Import *species*, *location* and *collection date* values for the collection date-labeled specimen in [sample_origins.csv](../../data/metadata/sample_origins.csv)."
   ]
  },
  {
   "cell_type": "code",
   "execution_count": null,
   "metadata": {},
   "outputs": [],
   "source": [
    "file_path = \"../../data/metadata/sample_origins.csv\"\n",
    "metadata_file = pd.read_csv(file_path, sep=\";\")\n",
    "specimen_df = metadata_file[metadata_file[\"COLLECTION_DATE\"].notna()][[\"ORGANISM\",\"COUNTRY\",\"COLLECTION_DATE\"]]\n",
    "\n",
    "specimen_df.head()"
   ]
  },
  {
   "cell_type": "markdown",
   "metadata": {},
   "source": [
    "Sort locations according to the following six overall categories:\n",
    "- Papua New Guinea\n",
    "- Indonesian New Guinea\n",
    "    - Arfak Mountains\n",
    "    - Bernhard Camp\n",
    "    - Brazza River\n",
    "    - Carstenz Range\n",
    "    - Etna Bay\n",
    "    - Humboldt Bay\n",
    "    - Triton Bay\n",
    "    - Mamberamo River\n",
    "    - Mimika River\n",
    "    - Okaba\n",
    "    - Rubi (Irubi)\n",
    "    - Utakwa (Otakwa)\n",
    "    - Wonti\n",
    "- Geelvink Bay Islands\n",
    "    - Biak Island\n",
    "    - Kordo (Korido)\n",
    "    - Yapen Island\n",
    "- Raja Ampat Islands\n",
    "    - Misool Island\n",
    "    - Waigeo Island\n",
    "- Borneo\n",
    "- Samoa"
   ]
  },
  {
   "cell_type": "code",
   "execution_count": null,
   "metadata": {},
   "outputs": [],
   "source": [
    "# Function to refine country and island categories\n",
    "def refine_country_and_island_categories(location):\n",
    "    indonesian_new_guinea_locations = [\"Arfak\",\n",
    "                                   \"Bernhard\",\n",
    "                                   \"Brazza\",\n",
    "                                   \"Carstenz\",\n",
    "                                   \"Etna\",\n",
    "                                   \"Humboldt\",\n",
    "                                   \"Triton\",\n",
    "                                   \"Mamberamo\",\n",
    "                                   \"Mimika\",\n",
    "                                   \"Okaba\",\n",
    "                                   \"Rubi\",\n",
    "                                   \"Utakwa\",\n",
    "                                   \"Wonti\"]\n",
    "    geelvink_bay_islands = [\"Biak\",\n",
    "                        \"Kordo\",\n",
    "                        \"Yapen\"]\n",
    "    raja_ampat_islands = [\"Misool\",\n",
    "                        \"Waigeo\"]\n",
    "\n",
    "    country, specific_location = location.split(\":\")\n",
    "    specific_location = specific_location.strip()\n",
    "\n",
    "    if country == \"Indonesia\":\n",
    "        if any(word in specific_location for word in indonesian_new_guinea_locations):\n",
    "            return \"Indonesian New Guinea\"\n",
    "        elif any(word in specific_location for word in geelvink_bay_islands):\n",
    "            return \"Geelvink Bay Islands\"\n",
    "        elif any(word in specific_location for word in raja_ampat_islands):\n",
    "            return \"Raja Ampat Islands\"\n",
    "        elif \"Borneo\" in specific_location:\n",
    "            return \"Borneo\"\n",
    "        else:\n",
    "            return \"Other\"\n",
    "    else:\n",
    "        return country"
   ]
  },
  {
   "cell_type": "code",
   "execution_count": null,
   "metadata": {},
   "outputs": [],
   "source": [
    "# Apply the function to categorize locations\n",
    "specimen_df[\"REFINED_LOCATION\"] = specimen_df[\"COUNTRY\"].apply(refine_country_and_island_categories)\n",
    "\n",
    "specimen_df.head()"
   ]
  },
  {
   "cell_type": "markdown",
   "metadata": {},
   "source": [
    "Plot specimen according to collection date, species, and sampling location."
   ]
  },
  {
   "cell_type": "code",
   "execution_count": null,
   "metadata": {},
   "outputs": [],
   "source": [
    "# Creating scatter plot\n",
    "import seaborn as sns\n",
    "import matplotlib.pyplot as plt\n",
    "# Custom color palette\n",
    "color_palette = [\"#e60049\", \"#0bb4ff\", \"#e6d800\",\n",
    "                 \"#9b19f5\", \"#ffa300\", \"#00bfa0\"]\n",
    "\n",
    "# The order the species should be presented in\n",
    "species_order = [\"Caloenas nicobarica\", \"Didunculus strigirostris\",\n",
    "                  \"Goura sclaterii\", \"Goura cristata minor\", \"Goura cristata\",\n",
    "                    \"Goura scheepmakeri\", \"Goura victoria beccarii\",\n",
    "                      \"Goura victoria\"]\n",
    "\n",
    "sns.set(style=\"ticks\")\n",
    "catplot = sns.catplot(data=specimen_df, x=\"COLLECTION_DATE\", y=\"ORGANISM\",\n",
    "             order=species_order, hue=\"REFINED_LOCATION\", aspect=2.5, s=200,\n",
    "               jitter=False, palette=color_palette)\n",
    "plt.setp(catplot._legend.get_texts(), fontsize=22)\n",
    "catplot.fig.subplots_adjust(right=0.8)\n",
    "catplot._legend.set_bbox_to_anchor((1.2,0.8))\n",
    "catplot._legend.set_title(\"Location\")\n",
    "catplot._legend.get_title().set_fontsize(\"22\")\n",
    "\n",
    "plt.grid()\n",
    "plt.xlabel(\"Collection Year\", fontsize=28)\n",
    "plt.ylabel(\"Species\", fontsize=28)\n",
    "plt.xticks(fontsize=24)\n",
    "plt.yticks(fontsize=24, style='italic')\n",
    "plt.title(\"Bird Specimen Collection by Year and Location\", fontsize=30)"
   ]
  },
  {
   "cell_type": "markdown",
   "metadata": {},
   "source": [
    "Save the figure to the '__results/figures/__' directory."
   ]
  },
  {
   "cell_type": "code",
   "execution_count": null,
   "metadata": {},
   "outputs": [],
   "source": [
    "catplot.savefig(\"../../results/figures/specimen_by_year_location.png\", bbox_inches=\"tight\")"
   ]
  }
 ],
 "metadata": {
  "kernelspec": {
   "display_name": "Python 3",
   "language": "python",
   "name": "python3"
  },
  "language_info": {
   "codemirror_mode": {
    "name": "ipython",
    "version": 3
   },
   "file_extension": ".py",
   "mimetype": "text/x-python",
   "name": "python",
   "nbconvert_exporter": "python",
   "pygments_lexer": "ipython3",
   "version": "3.10.12"
  }
 },
 "nbformat": 4,
 "nbformat_minor": 2
}
